{
 "cells": [
  {
   "cell_type": "markdown",
   "metadata": {
    "nbgrader": {
     "grade": false,
     "locked": true,
     "solution": false
    }
   },
   "source": [
    "# Problem 1: Shortest paths (total value: 6 points) #\n",
    "\n",
    "_Version 1.1-localdev_\n",
    "\n",
    "As a data analyst in the field, you will spend the bulk of your time just trying to get data into a form that is useful for analysis. This problem assess your ability to do that.\n",
    "\n",
    "In particular, you will calculate shortest paths in the California road network. You will use SQL, pandas, and basic Python to transform the data so that it can be fed into [NetworkX](https://networkx.github.io/), a Python module for analyzing and visualizing graphs or networks.\n",
    "\n",
    "This notebook has four (4) exercises, numbered 0 through 3, worth a total of **6 points**. Exercises 0 and 3 are worth 2 points each, and Exercises 1 and 2 are worth 1 point each.\n",
    "\n",
    "**All exercises are independent, so if you get stuck on one, try moving on to the next one.** However, in such cases do look for notes labeled, _\"In case Exercise XXX isn't working\"_, as you may need to run some code cells that load pre-computed results that will allow you to continue with any subsequent exercises.\n",
    "\n",
    "**Good luck!**"
   ]
  },
  {
   "cell_type": "markdown",
   "metadata": {},
   "source": [
    "## Setup ##\n",
    "\n",
    "The following code cell runs some setup code, which downloads files you'll need for this problem."
   ]
  },
  {
   "cell_type": "code",
   "execution_count": null,
   "metadata": {},
   "outputs": [],
   "source": [
    "!if ! test -f ca-roads.zip ; then wget https://github.com/rvuduc/graph-demos-for-ali/raw/master/sssp-networkx/ca-roads.zip ; fi\n",
    "!if ! test -d ca-roads ; then unzip ca-roads.zip && ls -al | grep ca-roads* ; fi\n",
    "!if ! test -f ca-roads-path-demo.png ; then wget https://raw.githubusercontent.com/rvuduc/graph-demos-for-ali/master/sssp-networkx/ca-roads-path-demo.png ; fi\n",
    "!if ! test -f problem_utils.py ; then wget https://github.com/rvuduc/graph-demos-for-ali/raw/master/sssp-networkx/problem_utils.py ; fi"
   ]
  },
  {
   "cell_type": "markdown",
   "metadata": {
    "nbgrader": {
     "grade": false,
     "locked": true,
     "solution": false
    }
   },
   "source": [
    "## Background: The shortest path problem ##\n",
    "\n",
    "The dataset in this problem is the California road network. It consists of **intersections**, which are point locations on the map having (x, y) coordinates, and **road (segments)**, each of which connects a pair of intersections. In the language of graphs or networks, we refer to intersections as _nodes_ and road segments as _edges_."
   ]
  },
  {
   "cell_type": "markdown",
   "metadata": {
    "nbgrader": {
     "grade": false,
     "locked": true,
     "solution": false
    }
   },
   "source": [
    "Run this code cell to see a picture of your task:"
   ]
  },
  {
   "cell_type": "code",
   "execution_count": null,
   "metadata": {
    "nbgrader": {
     "grade": false,
     "locked": true,
     "solution": false
    }
   },
   "outputs": [],
   "source": [
    "from problem_utils import get_path, display_image, assert_tibbles_are_equivalent, pandas_df_to_markdown_table\n",
    "print(\"Example of what you will produce in this problem (shortest paths on the California road network):\")\n",
    "display_image(get_path('ca-roads-path-demo.png'))"
   ]
  },
  {
   "cell_type": "markdown",
   "metadata": {
    "nbgrader": {
     "grade": false,
     "locked": true,
     "solution": false
    }
   },
   "source": [
    "The blue lines are road segments. The two markers (black solid circle and red star) are a source and destination pair. The purple route connecting this pair is a path, which is a list of connected road segments. The one you see in the image happens to be the \"shortest path\" between the source and destination."
   ]
  },
  {
   "cell_type": "markdown",
   "metadata": {
    "nbgrader": {
     "grade": false,
     "locked": true,
     "solution": false
    }
   },
   "source": [
    "**Your task in this notebook.** NetworkX can calculate the shortest path, but you have to supply the network. The exercises below walk you through the process of extracting the network data from a SQL database and transforming it so that NetworkX can use it."
   ]
  },
  {
   "cell_type": "markdown",
   "metadata": {
    "nbgrader": {
     "grade": false,
     "locked": true,
     "solution": false
    }
   },
   "source": [
    "**Preliminaries.** Run the following code cell, which will pre-load some modules you'll need for this problem."
   ]
  },
  {
   "cell_type": "code",
   "execution_count": null,
   "metadata": {
    "nbgrader": {
     "grade": false,
     "locked": true,
     "solution": false
    }
   },
   "outputs": [],
   "source": [
    "import sys\n",
    "\n",
    "import sqlite3 as db\n",
    "import pandas as pd\n",
    "\n",
    "%matplotlib inline\n",
    "import matplotlib.pyplot as plt\n",
    "\n",
    "print(f\"* Python version:\\n{sys.version}\\n\")\n",
    "print(f\"* sqlite3 version: {db.version}\")\n",
    "print(f\"* pandas version: {pd.__version__}\")"
   ]
  },
  {
   "cell_type": "markdown",
   "metadata": {
    "nbgrader": {
     "grade": false,
     "locked": true,
     "solution": false
    }
   },
   "source": [
    "## Opening the database ##\n",
    "\n",
    "Let's start by opening a read-only connection to the road network database:"
   ]
  },
  {
   "cell_type": "code",
   "execution_count": null,
   "metadata": {
    "nbgrader": {
     "grade": false,
     "locked": true,
     "solution": false
    }
   },
   "outputs": [],
   "source": [
    "conn = db.connect('file:' + get_path('ca-roads/network.db') + '?mode=ro', uri=True)"
   ]
  },
  {
   "cell_type": "markdown",
   "metadata": {
    "nbgrader": {
     "grade": false,
     "locked": true,
     "solution": false
    }
   },
   "source": [
    "This database has two tables: `Intersections` and `Roads`. Let's take a look.\n",
    "\n",
    "**Intersections.** The `Intersections` table looks like this:"
   ]
  },
  {
   "cell_type": "code",
   "execution_count": null,
   "metadata": {
    "nbgrader": {
     "grade": false,
     "locked": true,
     "solution": false
    }
   },
   "outputs": [],
   "source": [
    "pd.read_sql_query(\"SELECT * FROM Intersections LIMIT 7\", conn)"
   ]
  },
  {
   "cell_type": "markdown",
   "metadata": {
    "nbgrader": {
     "grade": false,
     "locked": true,
     "solution": false
    }
   },
   "source": [
    "Each intersection is a row in the database. It has a unique integer identifier (the `\"ID\"` column) and (x, y)-coordinates (the `\"X\"` and `\"Y\"` columns). You'll need the latter to visualize the paths."
   ]
  },
  {
   "cell_type": "markdown",
   "metadata": {
    "nbgrader": {
     "grade": false,
     "locked": true,
     "solution": false
    }
   },
   "source": [
    "**Roads.** The `Roads` table looks like this:"
   ]
  },
  {
   "cell_type": "code",
   "execution_count": null,
   "metadata": {
    "nbgrader": {
     "grade": false,
     "locked": true,
     "solution": false
    }
   },
   "outputs": [],
   "source": [
    "pd.read_sql_query(\"SELECT * FROM Roads LIMIT 5\", conn)"
   ]
  },
  {
   "cell_type": "markdown",
   "metadata": {
    "nbgrader": {
     "grade": false,
     "locked": true,
     "solution": false
    }
   },
   "source": [
    "Each road (segment) is a row of the table, with a unique integer ID (the `\"ID\"` column). It **connects** two intersections, and you can think of them as \"point A\" and \"point B.\" The IDs of these two points are `\"AID\"` and `\"BID\"`.\n",
    "\n",
    "> For example, row 1 of `Roads` is a road segment whose ID is also 1. It connects intersections 0 and 6. Recalling the `Intersections` table from before, intersection 0 has physical coordinates of (-121.904167, 41.974556), and intersection 6 has coordinates (-121.910088, 41.973942)."
   ]
  },
  {
   "cell_type": "markdown",
   "metadata": {
    "nbgrader": {
     "grade": false,
     "locked": true,
     "solution": false
    }
   },
   "source": [
    "## Exercise 0 (2 points): Querying the roads geometry ##\n",
    "\n",
    "Let's pull the road and intersection data together. In the code cell below, create a query string named `query_roads` that will produce an output table with exactly the following 7 columns:\n",
    "\n",
    "- `E`: The road segment ID\n",
    "- `A`: Point A of the road segment\n",
    "- `AX`: The x-coordinate of point A\n",
    "- `AY`: The y-coordinate of point A\n",
    "- `B`: Point B of the road segment\n",
    "- `BX`: The x-coordinate of point B\n",
    "- `BY`: The y-coordinate of point B\n",
    "\n",
    "The \"demo\" below will run your query string against the database, returning the result in a pandas `DataFrame` object named `df_roads`.\n",
    "\n",
    "For example, a few rows of your output should be:\n",
    "\n",
    "E|A|AX|AY|B|BX|BY\n",
    "---|---|---|---|---|---|---\n",
    "0|0|-121.90416699999999|41.974556|1|-121.902153|41.974765999999995\n",
    "1|0|-121.90416699999999|41.974556|6|-121.91008799999999|41.973942\n",
    "2|1|-121.902153|41.974765999999995|2|-121.89679|41.988075\n",
    "3|2|-121.89679|41.988075|3|-121.88960300000001|41.998032\n",
    "4|3|-121.88960300000001|41.998032|4|-121.88668100000001|42.008739\n",
    "..."
   ]
  },
  {
   "cell_type": "code",
   "execution_count": null,
   "metadata": {},
   "outputs": [],
   "source": [
    "# Define a variable named `query_roads`:\n",
    "### BEGIN SOLUTION\n",
    "query_roads = \"\"\"\n",
    "SELECT R.ID AS E,\n",
    "       IA.ID AS A, IA.X AS AX, IA.Y AS AY,\n",
    "       IB.ID AS B, IB.X AS BX, IB.Y AS BY\n",
    "    FROM Roads AS R, Intersections AS IA, Intersections AS IB\n",
    "    WHERE A=AID AND B=BID\n",
    "\"\"\"\n",
    "### END SOLUTION\n",
    "\n",
    "# Demo of your query:\n",
    "df_roads = pd.read_sql_query(query_roads, conn)\n",
    "df_roads.head()"
   ]
  },
  {
   "cell_type": "code",
   "execution_count": null,
   "metadata": {
    "nbgrader": {
     "grade": true,
     "grade_id": "ex0__query_roads",
     "locked": true,
     "points": "2",
     "solution": false
    }
   },
   "outputs": [],
   "source": [
    "# Test cell: `ex0__query_roads` (2 points)\n",
    "\n",
    "### BEGIN HIDDEN TESTS\n",
    "def ex0_gen_soln(force=False):\n",
    "    from problem_utils import get_path\n",
    "    from os.path import isfile\n",
    "    from problem_utils import pandas_df_to_markdown_table\n",
    "    \n",
    "    soln_file = get_path('ca-roads/ex0_soln.csv')\n",
    "    if force or not isfile(soln_file):\n",
    "        print(f\"Generating solution file, '{soln_file}'...\")\n",
    "        global df_roads\n",
    "        df_roads.to_csv(soln_file, index=False)\n",
    "        print(\"=== Demo ===\")\n",
    "        print(pandas_df_to_markdown_table(df_roads.head(), index=False))\n",
    "    else:\n",
    "        print(f\"Solution file, '{soln_file}', already exists; skipping re-generation...\")\n",
    "        \n",
    "ex0_gen_soln()\n",
    "### END HIDDEN TESTS\n",
    "\n",
    "def ex0_gen_dfs():\n",
    "    global query_roads # Your query\n",
    "    from random import randint, random, sample\n",
    "    from itertools import combinations\n",
    "    from pandas import DataFrame\n",
    "    \n",
    "    num_ints = randint(3, 5)\n",
    "    ids = list(range(num_ints))\n",
    "    xs, ys = [], []\n",
    "    for v in ids:\n",
    "        xs.append(-1 + 2*random())\n",
    "        ys.append(-1 + 2*random())\n",
    "    df_ints = DataFrame({\"ID\": ids, \"X\": xs, \"Y\": ys})\n",
    "    \n",
    "    all_roads = list(combinations(ids, 2))\n",
    "    num_roads = randint(1, len(all_roads))\n",
    "    roads = set()\n",
    "    for a, b in sample(all_roads, num_roads):\n",
    "        roads |= {(a, b)}\n",
    "    rr, aa, bb = [], [], []\n",
    "    for r, (a, b) in enumerate(roads):\n",
    "        rr += [r]\n",
    "        aa += [a]\n",
    "        bb += [b]\n",
    "    axs = [xs[a] for a in aa]\n",
    "    ays = [ys[a] for a in aa]\n",
    "    bxs = [xs[b] for b in bb]\n",
    "    bys = [ys[b] for b in bb]\n",
    "    df_roads = DataFrame({\"ID\": rr, \"AID\": aa, \"BID\": bb})\n",
    "    df_soln = DataFrame({\"E\": rr,\n",
    "                         \"A\": aa, \"AX\": axs, \"AY\": ays,\n",
    "                         \"B\": bb, \"BX\": bxs, \"BY\": bys})\n",
    "    return df_ints, df_roads, df_soln\n",
    "\n",
    "def ex0_check_one():\n",
    "    from sqlite3 import connect\n",
    "    from pandas import read_sql_query\n",
    "    \n",
    "    # Randomly generate a sample problem (and solution)\n",
    "    df_ints, df_roads, df_soln = ex0_gen_dfs()\n",
    "    \n",
    "    # Create a database\n",
    "    db_conn = connect(\":memory:\")\n",
    "    df_ints.to_sql(\"Intersections\", db_conn)\n",
    "    df_roads.to_sql(\"Roads\", db_conn)\n",
    "    \n",
    "    # Try your query\n",
    "    try:\n",
    "        df_your_soln = read_sql_query(query_roads, db_conn)\n",
    "        assert_tibbles_are_equivalent(df_soln, df_your_soln)\n",
    "    except:\n",
    "        print(\"\\n*** ERROR ***\\n\")\n",
    "        print(\"Your code did not produce the expected result on a randomly generated input.\")\n",
    "        print(\"==> Intersections:\")\n",
    "        display(df_ints)\n",
    "        print(\"==> Roads:\")\n",
    "        display(df_roads)\n",
    "        print(\"==> Expected solution:\")\n",
    "        display(df_soln)\n",
    "        print(\"==> Your solution:\")\n",
    "        display(df_your_soln)\n",
    "        raise\n",
    "    finally:\n",
    "        db_conn.close()\n",
    "\n",
    "print()\n",
    "for trial in range(10):\n",
    "    print(f\"=== Trial #{trial} / 9 ===\")\n",
    "    ex0_check_one()\n",
    "\n",
    "print(\"\\n(Passed.)\")"
   ]
  },
  {
   "cell_type": "markdown",
   "metadata": {
    "nbgrader": {
     "grade": false,
     "locked": true,
     "solution": false
    }
   },
   "source": [
    "### A pre-generated road network ###\n",
    "\n",
    "Whether you solved Exercise 0 or not, the following code cell will load a pre-generated solution for these data and store them in a pandas `DataFrame` called `df_roads`, so you can continue with the problem. Run this cell now. Subsequent exercises depend on `df_roads`, so do **not** modify it."
   ]
  },
  {
   "cell_type": "code",
   "execution_count": null,
   "metadata": {
    "nbgrader": {
     "grade": false,
     "locked": true,
     "solution": false
    }
   },
   "outputs": [],
   "source": [
    "df_roads = pd.read_csv(get_path(\"ca-roads/ex0_soln.csv\"))\n",
    "display(df_roads.head())\n",
    "print(\"...\")"
   ]
  },
  {
   "cell_type": "markdown",
   "metadata": {
    "nbgrader": {
     "grade": false,
     "locked": true,
     "solution": false
    }
   },
   "source": [
    "## Basic visualization ##\n",
    "\n",
    "Before the next exercise, run this cell to define some code that will help us draw the road network."
   ]
  },
  {
   "cell_type": "code",
   "execution_count": null,
   "metadata": {
    "nbgrader": {
     "grade": false,
     "locked": true,
     "solution": false
    }
   },
   "outputs": [],
   "source": [
    "def node_coords(sx, sy):\n",
    "    return [(x, y) for x, y in zip(sx, sy)]\n",
    "\n",
    "def edge_coords(axy, bxy):\n",
    "    return [[a, b] for a, b in zip(axy, bxy)]\n",
    "\n",
    "def plot_roads(df, ax=None):\n",
    "    from matplotlib.pyplot import gca\n",
    "    from matplotlib.collections import LineCollection\n",
    "    if ax is None: ax = gca()\n",
    "    A = node_coords(df[\"AX\"], df[\"AY\"])\n",
    "    B = node_coords(df[\"BX\"], df[\"BY\"])\n",
    "    E = edge_coords(A, B)\n",
    "    ec = LineCollection(E)\n",
    "    ax.add_collection(ec)\n",
    "    ax.autoscale()\n",
    "\n",
    "def plot_point(x, y, markerstyle):\n",
    "    from matplotlib.pyplot import plot\n",
    "    plot(x, y, markerstyle, markersize=10)\n",
    "    \n",
    "def get_intersection_coords(i, df):\n",
    "    return df[\"X\"].iloc[i], df[\"Y\"].iloc[i]"
   ]
  },
  {
   "cell_type": "markdown",
   "metadata": {
    "nbgrader": {
     "grade": false,
     "locked": true,
     "solution": false
    }
   },
   "source": [
    "To see this visualization in action, let's load all intersections, and consider the first one (first row) and the last one (last row):"
   ]
  },
  {
   "cell_type": "code",
   "execution_count": null,
   "metadata": {
    "nbgrader": {
     "grade": false,
     "locked": true,
     "solution": false
    }
   },
   "outputs": [],
   "source": [
    "df_intersections = pd.read_sql_query(\"SELECT * FROM Intersections\", conn)\n",
    "\n",
    "i_first = 0\n",
    "i_last = -1\n",
    "display(df_intersections.iloc[[i_first, i_last]])"
   ]
  },
  {
   "cell_type": "markdown",
   "metadata": {
    "nbgrader": {
     "grade": false,
     "locked": true,
     "solution": false
    }
   },
   "source": [
    "Let's draw the road network and mark these two intersections:"
   ]
  },
  {
   "cell_type": "code",
   "execution_count": null,
   "metadata": {
    "nbgrader": {
     "grade": false,
     "locked": true,
     "solution": false
    }
   },
   "outputs": [],
   "source": [
    "plt.figure(figsize=(9, 9))\n",
    "plot_roads(df_roads)\n",
    "plot_point(*get_intersection_coords(i_first, df_intersections), 'ko')\n",
    "plot_point(*get_intersection_coords(i_last, df_intersections), 'r*')"
   ]
  },
  {
   "cell_type": "markdown",
   "metadata": {
    "nbgrader": {
     "grade": false,
     "locked": true,
     "solution": false
    }
   },
   "source": [
    "**Closing the database.** The cells below assume the use of pandas, not SQL. For this reason, the next code cell will close the database connection. If for some reason you think you need to leave it open, then comment out this line (but do try to remember to close the connection later!)."
   ]
  },
  {
   "cell_type": "code",
   "execution_count": null,
   "metadata": {},
   "outputs": [],
   "source": [
    "conn.close() # Close the SQL database for good measure"
   ]
  },
  {
   "cell_type": "markdown",
   "metadata": {
    "nbgrader": {
     "grade": false,
     "locked": true,
     "solution": false
    }
   },
   "source": [
    "## Exercise 1 (1 point): Calculating road segment lengths ##\n",
    "\n",
    "To calculate the shortest path between any two intersections, we need to know the lengths of each road segment.\n",
    "\n",
    "Let's use the Euclidean distance as our measure of length. That is, let $a$ and $b$ be two intersections whose (x, y)-coordinates are $(x_a, y_a)$ for point $a$ and $(x_b, y_b)$ for point $b$. Then the Euclidean distance $d(a,b)$ between them is\n",
    "\n",
    "$$\n",
    "d(a, b) \\equiv \\sqrt{(x_b - x_a)^2 + (y_b - y_a)^2}.\n",
    "$$\n",
    "\n",
    "Unfortunately, sqlite3 does **not** have an easy built-in way to compute square roots. Therefore, let's switch to using pandas, now that we've extracted the main tables we need."
   ]
  },
  {
   "cell_type": "markdown",
   "metadata": {
    "nbgrader": {
     "grade": false,
     "locked": true,
     "solution": false
    }
   },
   "source": [
    "Complete the function `calc_distances(df)`, below. Assume that the input data frame, `df`, is one generated by your query in Exercise 0, e.g., it has the form,\n",
    "\n",
    "E|A|AX|AY|B|BX|BY\n",
    "---|---|---|---|---|---|---\n",
    "0|0|-121.90416699999999|41.974556|1|-121.902153|41.974765999999995\n",
    "1|0|-121.90416699999999|41.974556|6|-121.91008799999999|41.973942\n",
    "2|1|-121.902153|41.974765999999995|2|-121.89679|41.988075\n",
    "3|2|-121.89679|41.988075|3|-121.88960300000001|41.998032\n",
    "4|3|-121.88960300000001|41.998032|4|-121.88668100000001|42.008739\n",
    "..."
   ]
  },
  {
   "cell_type": "markdown",
   "metadata": {
    "nbgrader": {
     "grade": false,
     "locked": true,
     "solution": false
    }
   },
   "source": [
    "Your function should return a new pandas `DataFrame` with just two columns: `E`, holding the road segment ID, and `L`, holding the Euclidean length of that segment. For instance, the result for the rows shown above would be\n",
    "\n",
    "E|L\n",
    "---|---\n",
    "0|0.0020249187638055285\n",
    "1|0.005952750372727481\n",
    "2|0.01434891110851333\n",
    "3|0.012279854152229423\n",
    "4|0.011098555446539574\n",
    "\n",
    "For instance, consider segment 2. Its length is\n",
    "\n",
    "$$\\sqrt{(-121.89679 - (-121.902153))^2 + (41.988075 - 41.974765999999995)^2)} \\approx 0.01434891111\\ldots,$$\n",
    "\n",
    "as indicated above."
   ]
  },
  {
   "cell_type": "code",
   "execution_count": null,
   "metadata": {},
   "outputs": [],
   "source": [
    "def calc_distances(df):\n",
    "    ### BEGIN SOLUTION\n",
    "    return calc_distances__0(df)\n",
    "\n",
    "# Solution 0: Basic pandas/Numpy\n",
    "def calc_distances__0(df):\n",
    "    from numpy import sqrt\n",
    "    df_dist = df.copy()\n",
    "    dx = df_dist[\"AX\"] - df_dist[\"BX\"]\n",
    "    dy = df_dist[\"AY\"] - df_dist[\"BY\"]\n",
    "    df_dist[\"L\"] = sqrt(dx**2 + dy**2)\n",
    "    return df_dist[[\"E\", \"L\"]]\n",
    "\n",
    "# Solution 1: Apply\n",
    "def calc_distances__1(df):\n",
    "    df_dist = df.copy()\n",
    "    df_dist[\"L\"] = df_dist[[\"AX\", \"AY\", \"BX\", \"BY\"]].apply(euclidean_distance, axis=1)\n",
    "    return df_dist[[\"E\", \"L\"]]\n",
    "\n",
    "def euclidean_distance(row):\n",
    "    from math import sqrt\n",
    "    dx = row[\"AX\"] - row[\"BX\"]\n",
    "    dy = row[\"AY\"] - row[\"BY\"]\n",
    "    return sqrt(dx*dx + dy*dy)\n",
    "    ### END SOLUTION\n",
    "\n",
    "df_distances = calc_distances(df_roads)\n",
    "df_distances.head()"
   ]
  },
  {
   "cell_type": "code",
   "execution_count": null,
   "metadata": {
    "nbgrader": {
     "grade": true,
     "grade_id": "ex1__calc_distances",
     "locked": true,
     "points": "1",
     "solution": false
    }
   },
   "outputs": [],
   "source": [
    "# Test cell: `ex1__calc_distances` (1 point)\n",
    "\n",
    "### BEGIN HIDDEN TESTS\n",
    "def ex1_gen_soln(force=False):\n",
    "    from problem_utils import get_path\n",
    "    from os.path import isfile\n",
    "    from problem_utils import pandas_df_to_markdown_table\n",
    "    from pandas import read_csv\n",
    "    \n",
    "    soln_file = get_path('ca-roads/ex1_soln.csv')\n",
    "    if force or not isfile(soln_file):\n",
    "        global df_distances\n",
    "        print(f\"Generating solution file, '{soln_file}'...\")\n",
    "        df_distances.to_csv(soln_file, index=False)\n",
    "        print(\"=== Demo ===\")\n",
    "        print(pandas_df_to_markdown_table(df_distances.head(), index=False))\n",
    "    else:\n",
    "        print(f\"Solution file, '{soln_file}', already exists; skipping re-generation...\")\n",
    "        \n",
    "ex1_gen_soln()\n",
    "### END HIDDEN TESTS\n",
    "\n",
    "def ex1_gen_df():\n",
    "    from random import randint, random, sample\n",
    "    from itertools import combinations\n",
    "    from pandas import DataFrame\n",
    "    from math import sqrt\n",
    "    \n",
    "    def euclidean(ax, ay, bx, by):\n",
    "        return sqrt((bx - ax)**2 + (by - ay)**2)\n",
    "\n",
    "    num_ints = randint(3, 5)\n",
    "    ids = list(range(num_ints))\n",
    "    xs, ys = [], []\n",
    "    for v in ids:\n",
    "        xs.append(-1 + 2*random())\n",
    "        ys.append(-1 + 2*random())\n",
    "    all_roads = list(combinations(ids, 2))\n",
    "    num_roads = randint(1, len(all_roads))\n",
    "    roads = set()\n",
    "    for a, b in sample(all_roads, num_roads):\n",
    "        roads |= {(a, b)}\n",
    "    rr, aa, bb = [], [], []\n",
    "    for r, (a, b) in enumerate(roads):\n",
    "        rr += [r]\n",
    "        aa += [a]\n",
    "        bb += [b]\n",
    "    axs = [xs[a] for a in aa]\n",
    "    ays = [ys[a] for a in aa]\n",
    "    bxs = [xs[b] for b in bb]\n",
    "    bys = [ys[b] for b in bb]\n",
    "    ll = [euclidean(ax, ay, bx, by) for ax, ay, bx, by in zip(axs, ays, bxs, bys)]\n",
    "    df = DataFrame({\"E\": rr,\n",
    "                    \"A\": aa, \"AX\": axs, \"AY\": ays,\n",
    "                    \"B\": bb, \"BX\": bxs, \"BY\": bys})\n",
    "    df_soln = DataFrame({\"E\": rr, \"L\": ll})\n",
    "    return df, df_soln\n",
    "\n",
    "def ex1_check_one():\n",
    "    df, df_soln = ex1_gen_df()\n",
    "    try:\n",
    "        df_your_soln = calc_distances(df)\n",
    "        assert_tibbles_are_equivalent(df_soln, df_your_soln)\n",
    "    except:\n",
    "        print(\"\\n*** ERROR ***\\n\")\n",
    "        print(\"Your code did not produce the expected solution.\")\n",
    "        print(\"Input data frame:\")\n",
    "        display(df)\n",
    "        print(\"Expected solution:\")\n",
    "        display(df_soln)\n",
    "        print(\"Your solution:\")\n",
    "        display(df_your_soln)\n",
    "        raise\n",
    "\n",
    "print()\n",
    "for trial in range(10):\n",
    "    print(f\"=== Trial #{trial} / 9 ===\")\n",
    "    ex1_check_one()\n",
    "\n",
    "print(\"\\n(Passed.)\")"
   ]
  },
  {
   "cell_type": "markdown",
   "metadata": {
    "nbgrader": {
     "grade": false,
     "locked": true,
     "solution": false
    }
   },
   "source": [
    "### Pre-computed distances ###\n",
    "\n",
    "Whether you solved Exercise 1 successfully or not, the following code cell will load a pre-generated solution for these data and store them in a pandas `DataFrame` called `df_distances`, so that you can continue with the problem. Subsequent exercises depend on `df_distances`, so do **not** modify it."
   ]
  },
  {
   "cell_type": "code",
   "execution_count": null,
   "metadata": {
    "nbgrader": {
     "grade": false,
     "locked": true,
     "solution": false
    }
   },
   "outputs": [],
   "source": [
    "df_distances = pd.read_csv(get_path(\"ca-roads/ex1_soln.csv\"))\n",
    "display(df_distances.head())\n",
    "print(\"...\")"
   ]
  },
  {
   "cell_type": "markdown",
   "metadata": {
    "nbgrader": {
     "grade": false,
     "locked": true,
     "solution": false
    }
   },
   "source": [
    "##  Edge lists ##\n",
    "\n",
    "To use NetworkX, a _graph_ or _network_ is a collection of _nodes_ (or _vertices_) and _edges_, which connect nodes. For instance, in the road network, intersections are nodes and roads are edges. In the airport network of Notebook 11, airports were nodes and direct flight segments were edges. And in a social network, a person is a node and a friendship connection is an edge.\n",
    "\n",
    "As a starting step, let's combine the `df_roads` and `df_distances` data frames into a single data frame, called `df_edges`:"
   ]
  },
  {
   "cell_type": "code",
   "execution_count": null,
   "metadata": {
    "nbgrader": {
     "grade": false,
     "locked": true,
     "solution": false
    }
   },
   "outputs": [],
   "source": [
    "df_edges = df_roads.merge(df_distances, on=\"E\")\n",
    "df_edges.head()"
   ]
  },
  {
   "cell_type": "markdown",
   "metadata": {
    "nbgrader": {
     "grade": false,
     "locked": true,
     "solution": false
    }
   },
   "source": [
    "NetworkX requires us to define nodes and edges in a certain way. For nodes, we can just use the intersection IDs as node IDs.\n",
    "\n",
    "For edges, we need to construct an _edge list_. An edge list is a list of tuples of the form, `(a, b, s)`, where\n",
    "\n",
    "- `a` represents one node ID of a given edge;\n",
    "- `b` represents the other node ID of that edge;\n",
    "- and `s` is a dictionary of attributes (possibly empty).\n",
    "\n",
    "We'll explain how we'll use `s` in the next exercise, where you'll create an edge list for our data."
   ]
  },
  {
   "cell_type": "markdown",
   "metadata": {
    "nbgrader": {
     "grade": false,
     "locked": true,
     "solution": false
    }
   },
   "source": [
    "## Exercise 2 (1 point): Creating an edge list ##\n",
    "\n",
    "Complete the function `get_edgelist(df)`, below.\n",
    "\n",
    "The input data frame, `df`, will be something that looks like the `df_edges` data frame from above, that is, a tibble of road segments with intersection IDs (columns `\"A\"` and `\"B\"`), coordinates (`\"AX\"`, `\"AY\"`, `\"BX\"`, `\"BY\"`), and segment length (`\"L\"`).\n",
    "\n",
    "Your function should convert this data frame into a Python list of edge-tuples, $[(a_0, b_0, s_0), (a_1, b_1, s_1), \\ldots]$ such that for each edge $k$,\n",
    "\n",
    "- $(a_k, b_k)$ are the intersection IDs of road segment $k$; and\n",
    "- $s_k$ is a dictionary with exactly one key, `\"w\"`, whose value is the length of segment $k$.\n",
    "\n",
    "For example, for the first five rows of `df_edges` above, the returned list would have the elements\n",
    "\n",
    "```python\n",
    "    [(0, 1, {'w': 0.002025}),\n",
    "     (0, 6, {'w': 0.005953}),\n",
    "     (1, 2, {'w': 0.014349}),\n",
    "     (2, 3, {'w': 0.012280}),\n",
    "     (3, 4, {'w': 0.011099}),\n",
    "     ...]\n",
    "```\n",
    "\n",
    "> **Note 0.** The intersection IDs in your solution must be of type `int`.\n",
    ">\n",
    "> **Note 1.** Your solution should not depend on the order of the columns in `df`. The test cell may check your code on data frames where, for instance, `\"L\"` is the second column or `\"L\"` is the last column."
   ]
  },
  {
   "cell_type": "code",
   "execution_count": null,
   "metadata": {},
   "outputs": [],
   "source": [
    "def get_edgelist(df):\n",
    "    ### BEGIN SOLUTION\n",
    "    return [(a, b, {'w': w}) for a, b, w in zip(df[\"A\"], df[\"B\"], df[\"L\"])]\n",
    "    ### END SOLUTION\n",
    "    \n",
    "# Demo\n",
    "edgelist = get_edgelist(df_edges)\n",
    "edgelist[:5]"
   ]
  },
  {
   "cell_type": "code",
   "execution_count": null,
   "metadata": {
    "nbgrader": {
     "grade": true,
     "grade_id": "ex2__get_edgelist",
     "locked": true,
     "points": "1",
     "solution": false
    }
   },
   "outputs": [],
   "source": [
    "# Test cell: `ex2__get_edgelist` (1 point)\n",
    "\n",
    "### BEGIN HIDDEN TESTS\n",
    "def ex2_write_soln(force=False):\n",
    "    from os.path import isfile\n",
    "    from pandas import read_csv\n",
    "    soln_file = get_path(\"ca-roads/ex2_soln.csv\")\n",
    "    if force or not isfile(soln_file):\n",
    "        print(f\"Generating solution file, '{soln_file}'...\")\n",
    "        global edgelist\n",
    "        with open(soln_file, \"wt\") as fp:\n",
    "            for a, b, s in edgelist:\n",
    "                fp.write(f\"{a},{b},{s['w']}\\n\")\n",
    "    else:\n",
    "        print(f\"Solution file, '{soln_file}', exists; skipping...\")\n",
    "        \n",
    "ex2_write_soln()\n",
    "### END HIDDEN TESTS\n",
    "\n",
    "def ex2_gen_df():\n",
    "    from random import randint, random, sample\n",
    "    from itertools import combinations\n",
    "    from pandas import DataFrame\n",
    "    from math import sqrt\n",
    "    \n",
    "    def euclidean(ax, ay, bx, by):\n",
    "        return sqrt((bx - ax)**2 + (by - ay)**2)\n",
    "\n",
    "    num_ints = randint(3, 5)\n",
    "    ids = list(range(num_ints))\n",
    "    xs, ys = [], []\n",
    "    for v in ids:\n",
    "        xs.append(-1 + 2*random())\n",
    "        ys.append(-1 + 2*random())\n",
    "    all_roads = list(combinations(ids, 2))\n",
    "    num_roads = randint(1, len(all_roads))\n",
    "    roads = set()\n",
    "    for a, b in sample(all_roads, num_roads):\n",
    "        roads |= {(a, b)}\n",
    "    rr, aa, axs, ays, bb, bxs, bys, ll = [], [], [], [], [], [], [], []\n",
    "    soln_list = []\n",
    "    for r, (a, b) in enumerate(roads):\n",
    "        rr += [r]\n",
    "        aa += [a]\n",
    "        axs += [xs[a]]\n",
    "        ays += [ys[a]]\n",
    "        bb += [b]\n",
    "        bxs += [xs[b]]\n",
    "        bys += [ys[b]]\n",
    "        ll += [euclidean(axs[-1], ays[-1], bxs[-1], bys[-1])]\n",
    "        soln_list.append((a, b, {'w': ll[-1]}))\n",
    "    df = DataFrame({\"E\": rr, \"L\": ll,\n",
    "                    \"A\": aa, \"AX\": axs, \"AY\": ays,\n",
    "                    \"B\": bb, \"BX\": bxs, \"BY\": bys})\n",
    "    return df, soln_list\n",
    "\n",
    "def ex2_check_one():\n",
    "    from math import isclose\n",
    "    def soln_to_dict(soln):\n",
    "        assert isinstance(soln, list), f\"*** Solution should be a list, not `{type(soln)}`. ***\"\n",
    "        soln_dict = {}\n",
    "        for k, x in enumerate(soln):\n",
    "            assert isinstance(x, tuple), f\"*** Element {k} == '{x}', which is a `{type(x)}`, not a `{type(tuple())}`. ***\"\n",
    "            assert len(x) == 3, f\"*** Element {k} == '{x}' has {len(x)} values instead of just 3. ***\"\n",
    "            assert isinstance(x[-1], dict), \\\n",
    "                   f\"*** For element {k} == '{x}', third component is a `{type(x[-1])}` rather than a `dict`. ***\"\n",
    "            assert 'w' in x[-1], f\"*** The dictionary at element {k} == '{x}' does not have a 'w' key. ***\"\n",
    "            soln_dict[(x[0], x[1])] = x[2]\n",
    "        return soln_dict\n",
    "    \n",
    "    df, soln_list = ex2_gen_df()\n",
    "    soln_dict = soln_to_dict(soln_list)\n",
    "    try:\n",
    "        your_soln_list = get_edgelist(df)\n",
    "        your_soln_dict = soln_to_dict(your_soln_list)\n",
    "        for (ura, urb), urs in your_soln_dict.items():\n",
    "            assert (ura, urb) in soln_dict, f\"*** Edge ({ura}, {urb}) is not in the expected solution. ***\"\n",
    "            assert isclose(urs['w'], soln_dict[(ura, urb)]['w']), \\\n",
    "                   f\"*** For ({ura}, {urb}), weight {urs['w']} does not match ours, {soln_dict[(ura, urb)]}. ***\"\n",
    "    except:\n",
    "        print(\"\\n*** ERROR: Your results don't match our expectations. ***\\n\")\n",
    "        print(\"==> Input data frame:\")\n",
    "        display(df)\n",
    "        print(\"==> Expected output:\")\n",
    "        print(soln_list)\n",
    "        print(\"==> Your output:\")\n",
    "        print(your_soln_list)\n",
    "        raise\n",
    "        \n",
    "print()\n",
    "for trial in range(10):\n",
    "    print(f\"=== Trial #{trial} / 9 ===\")\n",
    "    ex2_check_one()\n",
    "\n",
    "print(\"\\n(Passed.)\")"
   ]
  },
  {
   "cell_type": "markdown",
   "metadata": {
    "nbgrader": {
     "grade": false,
     "locked": true,
     "solution": false
    }
   },
   "source": [
    "### A pre-computed edge list ###\n",
    "\n",
    "Whether you solved Exercise 2 or not, the following code cell will load a pre-generated solution for these data and store them in a list called `edgelist`, so that you can continue with this problem. Subsequent exercises depend on `df_distances`, so do **not** modify it."
   ]
  },
  {
   "cell_type": "code",
   "execution_count": null,
   "metadata": {
    "nbgrader": {
     "grade": false,
     "locked": true,
     "solution": false
    }
   },
   "outputs": [],
   "source": [
    "with open(get_path(\"ca-roads/ex2_soln.csv\"), \"rt\") as fp:\n",
    "    edgelist = []\n",
    "    for l in fp.readlines():\n",
    "        a, b, s = l.strip().split(',')\n",
    "        edgelist.append((int(a), int(b), {'w': float(s)}))\n",
    "        \n",
    "print(\"First five edges:\")\n",
    "for e in edgelist[:5]:\n",
    "    print(e)\n",
    "print(\"...\")"
   ]
  },
  {
   "cell_type": "markdown",
   "metadata": {
    "nbgrader": {
     "grade": false,
     "locked": true,
     "solution": false
    }
   },
   "source": [
    "## Computing shortest paths via NetworkX ##\n",
    "\n",
    "At last, we are ready to calculate shortest paths!\n",
    "\n",
    "First, let's create a NetworkX `Graph` object with intersections as nodes and the edge list from Exercise 2.\n",
    "\n",
    "> By default, NetworkX treats the graph as _undirected_. So edge (0, 6) and (6, 0) are treated as the same."
   ]
  },
  {
   "cell_type": "code",
   "execution_count": null,
   "metadata": {
    "nbgrader": {
     "grade": false,
     "locked": true,
     "solution": false
    }
   },
   "outputs": [],
   "source": [
    "from networkx import Graph\n",
    "G = Graph()\n",
    "G.add_nodes_from(df_intersections[\"ID\"])\n",
    "G.add_edges_from(edgelist)\n",
    "\n",
    "print(f\"The graph has {G.number_of_nodes()} nodes and {G.number_of_edges()} edges.\")"
   ]
  },
  {
   "cell_type": "markdown",
   "metadata": {
    "nbgrader": {
     "grade": false,
     "locked": true,
     "solution": false
    }
   },
   "source": [
    "Once we have a graph, asking for a shortest path between two nodes is easy! First, recall that each element of our edge list had two end points, $a$ and $b$, as well as the distance between them. When we build the graph, we will ask NetworkX to use the distances as _weights_ along each edge. Then, when searching for a shortest path, NetworkX will use these edge weights to calculate the length of a path, and the shortest path will be the one where the sum of edge weights is minimized.\n",
    "\n",
    "The following code uses NetworkX to compute the path between node (intersection) `start` and `finish`:"
   ]
  },
  {
   "cell_type": "code",
   "execution_count": null,
   "metadata": {
    "nbgrader": {
     "grade": false,
     "locked": true,
     "solution": false
    }
   },
   "outputs": [],
   "source": [
    "def get_shortest_path(s, t, G):\n",
    "    from networkx import shortest_path\n",
    "    return shortest_path(G, source=s, target=t, weight='w')\n",
    "\n",
    "start = df_intersections[\"ID\"].iloc[i_first]\n",
    "finish = df_intersections[\"ID\"].iloc[i_last]\n",
    "print(f\"Calculating a shortest path between nodes (intersections) {start} and {finish}...\")\n",
    "path = get_shortest_path(start, finish, G)\n",
    "\n",
    "print(f\"\\n==> First ten nodes (intersections) along the path, which is of type `{type(path)}`:\")\n",
    "print('    ' + ', '.join([str(s) for s in path[:10]]) + \", ...\")"
   ]
  },
  {
   "cell_type": "markdown",
   "metadata": {
    "nbgrader": {
     "grade": false,
     "locked": true,
     "solution": false
    }
   },
   "source": [
    "The `path` is a list of nodes (intersections). For instance, if the path were the list,\n",
    "\n",
    "```python\n",
    "[8, 2, 6, 3, 10, 11, 104, 52]\n",
    "```\n",
    "\n",
    "then that would mean the shortest path starts at node 8, then goes along the edge from 8 to 2, then along the edge from 2 to 6, and so on."
   ]
  },
  {
   "cell_type": "markdown",
   "metadata": {
    "nbgrader": {
     "grade": false,
     "locked": true,
     "solution": false
    }
   },
   "source": [
    "## Exercise 3 (2 points): Edge coordinates, for plotting ##\n",
    "\n",
    "As your last exercise, let's take a path and determine the coordinates of each edge, producing an _edge coordinates list_. It's easiest to see by example.\n",
    "\n",
    "**Example.** Suppose the coordinates of these nodes is given in an intersections data frame, `df`, which is the following:\n",
    "\n",
    "ID|X|Y\n",
    "---|---|---\n",
    "0|-121.90416699999999|41.974556\n",
    "5|-121.915062|41.970314\n",
    "6|-121.91008799999999|41.973942\n",
    "7|-121.916199|41.969482\n",
    "\n",
    "Now suppose you are given the following path between nodes 0 and 7: `path = [0, 6, 5, 7]`.\n",
    "\n",
    "The _edge coordinates list_ of this path is a list with one element per edge of the path. In this example, the edges of the path are (0, 6), (6, 5), and (5, 7), so the edge coordinates list will have three elements. Each element is also a list. Each inner list has two elements, which are two (x, y)-coordinate pairs. In our example.\n",
    "\n",
    "```python\n",
    "    [[(-121.90416699999999, 41.974556), (-121.91008799999999, 41.973942)], # (x, y) for 0 and 6\n",
    "     [(-121.91008799999999, 41.973942), (-121.915062, 41.970314)], # (x, y) for 6 and 5\n",
    "     [(-121.915062, 41.970314), (-121.916199, 41.969482)] # (x, y) for 5 and 7\n",
    "    ]\n",
    "```\n",
    "\n",
    "**Your task.** Complete the function, `path_to_coords(path, df)`, so that it computes the edge coordinates list for a path, `path`, whose node coordinates are given by `df`. That is, `path` will be a list of node IDs and `df` will hold the coordinates where column `\"ID\"` holds the node ID, `\"X\"` the x-coordinate, and `\"Y\"` the y-coordinate. It should return this edge coordinates list."
   ]
  },
  {
   "cell_type": "code",
   "execution_count": null,
   "metadata": {
    "nbgrader": {
     "grade": false,
     "locked": false,
     "solution": false
    }
   },
   "outputs": [],
   "source": [
    "def path_to_coords(path, df):\n",
    "    ### BEGIN SOLUTION\n",
    "    df = df.set_index(\"ID\")\n",
    "    edgecoords = []\n",
    "    for a, b in zip(path[:-1], path[1:]):\n",
    "        ax, ay = df[\"X\"].loc[a], df[\"Y\"].loc[a]\n",
    "        bx, by = df[\"X\"].loc[b], df[\"Y\"].loc[b]\n",
    "        edgecoords.append([(ax, ay), (bx, by)])\n",
    "    return edgecoords\n",
    "    ### END SOLUTION\n",
    "\n",
    "print(\"Converting the path to coordinates...\")\n",
    "path_coords = path_to_coords(path, df_intersections)\n",
    "print(\"The first five edge coordintes along the shortest path:\")\n",
    "path_coords[:5]"
   ]
  },
  {
   "cell_type": "code",
   "execution_count": null,
   "metadata": {
    "nbgrader": {
     "grade": true,
     "grade_id": "ex3__path_to_coords",
     "locked": true,
     "points": "2",
     "solution": false
    }
   },
   "outputs": [],
   "source": [
    "# Test cell: `ex3__path_to_coords` (2 points)\n",
    "\n",
    "def ex3_gen():\n",
    "    from random import randint, random, sample\n",
    "    from pandas import DataFrame\n",
    "    \n",
    "    num_ints = randint(2, 10)\n",
    "    ids = list(range(num_ints))\n",
    "    xs, ys = [], []\n",
    "    for v in ids:\n",
    "        xs.append(-1 + 2*random())\n",
    "        ys.append(-1 + 2*random())\n",
    "        \n",
    "    path_len = randint(2, num_ints)\n",
    "    path = sample(ids, path_len)\n",
    "    soln = [[(xs[i], ys[i]), (xs[j], ys[j])] for i, j in zip(path[:-1], path[1:])]\n",
    "    df = DataFrame({\"ID\": ids, \"X\": xs, \"Y\": ys})\n",
    "    return path, df, soln\n",
    "\n",
    "def ex3_check_one():\n",
    "    from math import isclose\n",
    "    def check_types(soln):\n",
    "        assert isinstance(soln, list), \"f*** Solution should be a `list`, not a `{type(soln)}`. ***\"\n",
    "        for k, e in enumerate(soln):\n",
    "            assert isinstance(e, list), f\"*** Element {k} (== {e}) should be a `list`, not a `{type(e)}`. ***\"\n",
    "            assert len(e) == 2, f\"*** Element {k} (== {e}) should have two elements, not {len(e)}. ***\"\n",
    "            assert isinstance(e[0], tuple), \\\n",
    "                   f\"*** First part of element {k} (== {e}) should be a `tuple`, not a `{type(e[0])}`. ***\"\n",
    "            assert isinstance(e[1], tuple), \\\n",
    "                   f\"*** Second part of element {k} (== {e}) should be a `tuple`, not a `{type(e[1])}`. ***\"\n",
    "            assert len(e[0]) == 2, \\\n",
    "                   f\"*** First part of element {k} (== {e}) should be a pair, not a {len(e[0])}-tuple. ***\"\n",
    "            assert len(e[1]) == 2, \\\n",
    "                   f\"*** First part of element {k} (== {e}) should be a pair, not a {len(e[1])}-tuple. ***\"\n",
    "    def check_solns(yours, soln):\n",
    "        check_types(your_soln)\n",
    "        assert len(yours) == len(soln), \\\n",
    "               f\"*** Your solution has {len(yours)} elements, whereas we expected {len(soln)}. ***\"\n",
    "        for k, (u, x) in enumerate(zip(yours, soln)):\n",
    "            for i in range(2):\n",
    "                for j in range(2):\n",
    "                    assert isclose(u[i][j], x[i][j]), \\\n",
    "                           f\"*** Mismatch at position {k}: yours is {u}, whereas we expected {x}. ***\"\n",
    "\n",
    "    path, df, soln = ex3_gen()\n",
    "    check_types(soln)\n",
    "    try:\n",
    "        your_soln = path_to_coords(path, df)\n",
    "        check_solns(your_soln, soln)\n",
    "    except:\n",
    "        print(\"\\n*** ERROR: Your results don't match our expectations. ***\\n\")\n",
    "        print(\"==> Input path:\", path)\n",
    "        print(\"==> Input data frame:\")\n",
    "        display(df)\n",
    "        print(\"==> Expected output:\")\n",
    "        print(soln)\n",
    "        print(\"==> Your output:\")\n",
    "        print(your_soln)\n",
    "        raise\n",
    "        \n",
    "print()\n",
    "for trial in range(10):\n",
    "    print(f\"=== Trial #{trial} / 9 ===\")\n",
    "    ex3_check_one()\n",
    "\n",
    "print(\"\\n(Passed.)\")"
   ]
  },
  {
   "cell_type": "markdown",
   "metadata": {
    "nbgrader": {
     "grade": false,
     "locked": true,
     "solution": false
    }
   },
   "source": [
    "## Putting it all together: visualizing the shortest path ##\n",
    "\n",
    "If your code works, then the following will create a visualization identical to the one at the very top of this notebook.\n",
    "\n",
    "There are no more exercises in this problem, so if you believe you are done, the rest is optional."
   ]
  },
  {
   "cell_type": "code",
   "execution_count": null,
   "metadata": {},
   "outputs": [],
   "source": [
    "# This cell will plot a route. Feel free to edit the\n",
    "# starting and finishing nodes to see other paths!\n",
    "\n",
    "def plot_edgecoords(edgecoords, ax=None, color=None):\n",
    "    from matplotlib.pyplot import gca\n",
    "    from matplotlib.collections import LineCollection\n",
    "    if ax is None: ax = gca()\n",
    "    if color is None: color = ['m'] * len(edgecoords)\n",
    "    ec = LineCollection(edgecoords, color=color)\n",
    "    ax.add_collection(ec)\n",
    "    \n",
    "# Modify `start` and `finish`, if you want to see other paths!\n",
    "# For example, uncomment the lines that pick random\n",
    "# starting and ending nodes.\n",
    "start = df_intersections[\"ID\"].iloc[i_first]\n",
    "finish = df_intersections[\"ID\"].iloc[i_last]\n",
    "\n",
    "#start = int(df_intersections[\"ID\"].sample(1)) # Random start\n",
    "#finish = int(df_intersections[\"ID\"].sample(1)) # Random finish\n",
    "\n",
    "print(f\"Calculating a shortest path between nodes (intersections) {start} and {finish}...\")\n",
    "path = get_shortest_path(start, finish, G)\n",
    "path_coords = path_to_coords(path, df_intersections)\n",
    "\n",
    "plt.figure(figsize=(6, 6))\n",
    "plot_roads(df_roads)\n",
    "plot_point(*get_intersection_coords(start, df_intersections), 'ko')\n",
    "plot_point(*get_intersection_coords(finish, df_intersections), 'r*')\n",
    "plot_edgecoords(path_coords)"
   ]
  },
  {
   "cell_type": "markdown",
   "metadata": {},
   "source": [
    "**Fin!** You’ve reached the end of this problem. Don’t forget to restart and run all cells again to make sure it’s all working when run in sequence; and make sure your work passes the submission process. Good luck!"
   ]
  }
 ],
 "metadata": {
  "kernelspec": {
   "display_name": "Python 3",
   "language": "python",
   "name": "python3"
  },
  "language_info": {
   "codemirror_mode": {
    "name": "ipython",
    "version": 3
   },
   "file_extension": ".py",
   "mimetype": "text/x-python",
   "name": "python",
   "nbconvert_exporter": "python",
   "pygments_lexer": "ipython3",
   "version": "3.7.3"
  }
 },
 "nbformat": 4,
 "nbformat_minor": 2
}
